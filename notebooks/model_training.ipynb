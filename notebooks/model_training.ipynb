{
 "cells": [
  {
   "cell_type": "markdown",
   "id": "73b49b02-65ff-461d-8520-dd61ba444f01",
   "metadata": {},
   "source": [
    "# Model training and evaluation"
   ]
  },
  {
   "cell_type": "code",
   "execution_count": 13,
   "id": "bf3e11aa-4092-41be-ba33-31f20cd2a816",
   "metadata": {},
   "outputs": [],
   "source": [
    "import pandas as pd\n",
    "df = pd.read_csv(\"../data/processed.csv\")"
   ]
  },
  {
   "cell_type": "code",
   "execution_count": 4,
   "id": "ec689c4a-0dd0-4bf5-b82a-30610811cb54",
   "metadata": {},
   "outputs": [],
   "source": [
    "from sklearn.linear_model import LogisticRegression\n",
    "from sklearn.ensemble import RandomForestClassifier\n",
    "from sklearn.neighbors import KNeighborsClassifier\n",
    "from sklearn.tree import DecisionTreeClassifier\n",
    "from sklearn.svm import SVC, LinearSVC\n",
    "from xgboost import XGBClassifier\n",
    "from sklearn.metrics import make_scorer, accuracy_score, roc_auc_score\n",
    "from sklearn.model_selection import GridSearchCV\n",
    "from sklearn.model_selection import train_test_split"
   ]
  },
  {
   "cell_type": "code",
   "execution_count": 5,
   "id": "9cb48475-93e8-4a20-a2fb-70120d6cffb6",
   "metadata": {},
   "outputs": [],
   "source": [
    "features = ['track_popularity', 'danceability', 'energy', 'key', 'loudness', 'mode',\n",
    "       'speechiness', 'acousticness', 'instrumentalness', 'liveness',\n",
    "       'valence', 'tempo', 'duration_ms']"
   ]
  },
  {
   "cell_type": "code",
   "execution_count": 14,
   "id": "ceaee202-0880-4c58-9e90-5a1fe9989a63",
   "metadata": {},
   "outputs": [],
   "source": [
    "training = df.sample(frac=0.8, random_state=2)\n",
    "X_train = training[features]\n",
    "y_train = training['track_popularity']\n",
    "X_test = df.drop(training.index)[features]\n",
    "y_test = df.drop(training.index)['track_popularity']"
   ]
  },
  {
   "cell_type": "code",
   "execution_count": 15,
   "id": "218d978e-1a0d-46dc-a43b-74d344a90658",
   "metadata": {},
   "outputs": [],
   "source": [
    "X_train, X_test, y_train, y_test = train_test_split(X_train, y_train, test_size = 0.2, random_state = 2)"
   ]
  },
  {
   "cell_type": "code",
   "execution_count": null,
   "id": "162aaa8a-8cd0-41e2-9dc8-6d7d4a44bf1a",
   "metadata": {},
   "outputs": [],
   "source": [
    "# Train the model\n",
    "model = LogisticRegression(solver='lbfgs', max_iter=1000)\n",
    "model.fit(X_train, y_train)\n",
    "\n",
    "# Make predictions\n",
    "predict = model.predict(X_test)\n",
    "\n",
    "# Calculate accuracy\n",
    "accuracy = accuracy_score(y_test, predict)\n",
    "print(\"Accuracy:\", accuracy)\n",
    "\n",
    "# Calculate AUC\n",
    "model_accuracy = roc_auc_score(y_test, model.predict_proba(X_test), multi_class='ovr')\n",
    "print(\"AUC:\", model_accuracy)"
   ]
  },
  {
   "cell_type": "code",
   "execution_count": null,
   "id": "d74a5cff-aa04-4463-b3fa-9be75a036bd8",
   "metadata": {},
   "outputs": [],
   "source": []
  }
 ],
 "metadata": {
  "kernelspec": {
   "display_name": "spoti",
   "language": "python",
   "name": "spoti"
  },
  "language_info": {
   "codemirror_mode": {
    "name": "ipython",
    "version": 3
   },
   "file_extension": ".py",
   "mimetype": "text/x-python",
   "name": "python",
   "nbconvert_exporter": "python",
   "pygments_lexer": "ipython3",
   "version": "3.12.4"
  }
 },
 "nbformat": 4,
 "nbformat_minor": 5
}
